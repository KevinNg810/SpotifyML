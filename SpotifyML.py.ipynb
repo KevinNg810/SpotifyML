{
 "cells": [
  {
   "cell_type": "code",
   "execution_count": 165,
   "metadata": {},
   "outputs": [],
   "source": [
    "# import spotipy\n",
    "# import spotipy.util as util\n",
    "import pandas as pd\n",
    "import os\n",
    "import time\n",
    "import requests\n",
    "from bs4 import BeautifulSoup as bs\n",
    "import datetime\n",
    "from datetime import timedelta, date\n",
    "import glob\n",
    "from os import listdir\n",
    "import numpy as np\n",
    "import pymongo\n",
    "import csv\n",
    "import json\n",
    "import sys, getopt, pprint\n",
    "from pymongo import MongoClient\n",
    "import types\n",
    "import itertools\n",
    "from itertools import zip_longest\n",
    "import scipy.stats\n",
    "import matplotlib.pyplot as plt\n",
    "import seaborn as sns\n",
    "from sklearn.model_selection import train_test_split\n",
    "from sklearn.metrics import accuracy_score\n",
    "from sklearn.ensemble import RandomForestClassifier\n",
    "from sklearn.model_selection import GridSearchCV"
   ]
  },
  {
   "cell_type": "code",
   "execution_count": 166,
   "metadata": {},
   "outputs": [],
   "source": [
    "DaveDF = pd.read_csv('dfs/DaveDF.csv')\n",
    "VladDF = pd.read_csv('dfs/VLAD_DF.csv')\n",
    "KevDF = pd.read_csv('dfs/KevDF.csv')\n",
    "StephenDF = pd.read_csv('dfs/StephenDF.csv')\n",
    "WhitePandas = pd.read_csv('dfs/WhitePandas.csv')\n",
    "DaveDF_means = pd.read_csv('dfs/Dave_means.csv')\n",
    "VladDF_means = pd.read_csv('dfs/Vlad_means.csv')\n",
    "KevDF_means = pd.read_csv('dfs/Kev_means.csv')\n",
    "StephenDF_means = pd.read_csv('dfs/Stephen_means.csv')\n",
    "WhitePandas_mean = pd.read_csv('dfs/WhitePandas_means.csv')"
   ]
  },
  {
   "cell_type": "code",
   "execution_count": 186,
   "metadata": {},
   "outputs": [
    {
     "name": "stderr",
     "output_type": "stream",
     "text": [
      "/Library/Frameworks/Python.framework/Versions/3.8/lib/python3.8/site-packages/seaborn/categorical.py:3666: UserWarning: The `factorplot` function has been renamed to `catplot`. The original name will be removed in a future release. Please update your code. Note that the default `kind` in `factorplot` (`'point'`) has changed `'strip'` in `catplot`.\n",
      "  warnings.warn(msg)\n",
      "/Library/Frameworks/Python.framework/Versions/3.8/lib/python3.8/site-packages/seaborn/categorical.py:3672: UserWarning: The `size` paramter has been renamed to `height`; please update your code.\n",
      "  warnings.warn(msg, UserWarning)\n"
     ]
    },
    {
     "data": {
      "image/png": "[encoded data removed]",
      "text/plain": [
       "<Figure size 720x720 with 1 Axes>"
      ]
     },
     "metadata": {
      "needs_background": "light"
     },
     "output_type": "display_data"
    }
   ],
   "source": [
    "bright=[\"#F8766D\",\"#00BFC4\",\"#FFC400\",\"#03ED3A\",\"#003FFF\",\"#8A2BE2\"]\n",
    "sns.set_palette(bright)\n",
    "\n",
    "#plot mean audio features by owner\n",
    "new = WhitePandas_mean.melt('owner', var_name='cols',  value_name='vals')\n",
    "sns.factorplot(x=\"cols\", y=\"vals\", hue='owner', data=new, kind='bar', size=10, legend_out=False)\n",
    "plt.xticks(rotation = 90, fontsize = 12) #set audio feature labels\n",
    "plt.ylabel(\"Value\", fontsize = 15) #set y axis label\n",
    "plt.xlabel(\"Audio Features\", fontsize = 15) #set x axis label\n",
    "plt.title(\"Mean Audio Features by Owner\", fontsize = 17) #set chart title\n",
    "plt.legend(fontsize=12) #increase legend fontsize\n",
    "plt.show() #remove text output"
   ]
  },
  {
   "cell_type": "code",
   "execution_count": 174,
   "metadata": {},
   "outputs": [
    {
     "name": "stdout",
     "output_type": "stream",
     "text": [
      "Features Training Set: (150, 11) Features Testing Set: (50, 11)\n",
      "Target Training Set: (150,) Target Testing Set: (50,)\n"
     ]
    }
   ],
   "source": [
    "#####Separate Training Set into Train and Test Sets\n",
    "#separate the dataset into two separate sets to train and test the model\n",
    "train = pd.read_csv(\"dfs/WhitePandas.csv\")\n",
    "features = train.drop(['Owner','Track ID','Tracks','Artists', 'Albums'], axis=1)\n",
    "target = train['Owner']\n",
    "\n",
    "x_train, x_test, y_train, y_test = train_test_split(features, target, test_size= .25)\n",
    "print('Features Training Set:', x_train.shape, 'Features Testing Set:', x_test.shape)\n",
    "print('Target Training Set:', y_train.shape, 'Target Testing Set:', y_test.shape)"
   ]
  },
  {
   "cell_type": "code",
   "execution_count": 175,
   "metadata": {},
   "outputs": [
    {
     "name": "stdout",
     "output_type": "stream",
     "text": [
      "Random Forest: 78.0\n"
     ]
    }
   ],
   "source": [
    "#Random Forest\n",
    "randomforest = RandomForestClassifier(random_state=42)\n",
    "randomforest.fit(x_train, y_train)\n",
    "y_pred = randomforest.predict(x_test)\n",
    "acc_randomforest = accuracy_score(y_test, y_pred, normalize=True, sample_weight=None) * 100\n",
    "print(\"Random Forest:\", acc_randomforest)"
   ]
  },
  {
   "cell_type": "code",
   "execution_count": 176,
   "metadata": {},
   "outputs": [
    {
     "name": "stdout",
     "output_type": "stream",
     "text": [
      "{'max_features': 'auto', 'n_estimators': 700}\n",
      "Random Forest GridSearchCV: 76.0\n"
     ]
    }
   ],
   "source": [
    "param_grid = { \n",
    "    'n_estimators': [200, 700],\n",
    "    'max_features': ['auto', 'sqrt', 'log2'\n",
    "                    ]}\n",
    "\n",
    "rf_cv = GridSearchCV(estimator=randomforest, param_grid=param_grid)\n",
    "rf_cv.fit(x_train, y_train)\n",
    "\n",
    "print(rf_cv.best_params_)\n",
    "\n",
    "y_pred = rf_cv.predict(x_test)\n",
    "acc_rfcv = acc_randomforest = accuracy_score(y_pred, y_test, normalize=True, sample_weight=None) * 100\n",
    "print(\"Random Forest GridSearchCV:\", acc_rfcv)"
   ]
  },
  {
   "cell_type": "code",
   "execution_count": 177,
   "metadata": {},
   "outputs": [
    {
     "data": {
      "text/plain": [
       "0.76"
      ]
     },
     "execution_count": 177,
     "metadata": {},
     "output_type": "execute_result"
    }
   ],
   "source": [
    "prediction = rf_cv.predict(x_test)\n",
    "accuracy = accuracy_score(prediction, y_test)\n",
    "accuracy"
   ]
  },
  {
   "cell_type": "code",
   "execution_count": 178,
   "metadata": {},
   "outputs": [],
   "source": [
    "accuracy = accuracy_score(prediction, y_test)"
   ]
  },
  {
   "cell_type": "code",
   "execution_count": 179,
   "metadata": {},
   "outputs": [
    {
     "data": {
      "text/plain": [
       "0.76"
      ]
     },
     "execution_count": 179,
     "metadata": {},
     "output_type": "execute_result"
    }
   ],
   "source": [
    "accuracy"
   ]
  },
  {
   "cell_type": "code",
   "execution_count": 180,
   "metadata": {},
   "outputs": [
    {
     "name": "stdout",
     "output_type": "stream",
     "text": [
      "Correct Predictions: 38/50\n",
      "Accuracy: 76.00%\n"
     ]
    }
   ],
   "source": [
    "print(\"Correct Predictions: %d/%d\"%(accuracy*len(y_test),len(y_test)))\n",
    "print(\"Accuracy: %.2f%%\"%(accuracy*100))"
   ]
  }
 ],
 "metadata": {
  "kernelspec": {
   "display_name": "Python 3",
   "language": "python",
   "name": "python3"
  },
  "language_info": {
   "codemirror_mode": {
    "name": "ipython",
    "version": 3
   },
   "file_extension": ".py",
   "mimetype": "text/x-python",
   "name": "python",
   "nbconvert_exporter": "python",
   "pygments_lexer": "ipython3",
   "version": "3.7.3"
  }
 },
 "nbformat": 4,
 "nbformat_minor": 2
}
